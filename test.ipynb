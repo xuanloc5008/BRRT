{
 "cells": [
  {
   "cell_type": "code",
   "execution_count": 1,
   "id": "c3678546",
   "metadata": {},
   "outputs": [
    {
     "name": "stdout",
     "output_type": "stream",
     "text": [
      "400\n"
     ]
    }
   ],
   "source": [
    "n = 1\n",
    "for i in range(0, 500, 100):\n",
    "    n = i\n",
    "print(n)"
   ]
  },
  {
   "cell_type": "code",
   "execution_count": 3,
   "id": "7c5c1a86",
   "metadata": {},
   "outputs": [
    {
     "name": "stdout",
     "output_type": "stream",
     "text": [
      "learning\n"
     ]
    }
   ],
   "source": [
    "data = \"I'm learning Python!\"\n",
    "print(data.split()[1])"
   ]
  },
  {
   "cell_type": "code",
   "execution_count": 4,
   "id": "8bbc525e",
   "metadata": {},
   "outputs": [
    {
     "name": "stdout",
     "output_type": "stream",
     "text": [
      "True\n"
     ]
    }
   ],
   "source": [
    "def check_the_number (N) :\n",
    "    list_of_numbers = []\n",
    "    result = \"\"\n",
    "    for i in range (1, 5):\n",
    "        list_of_numbers.append(i)\n",
    "    if N in list_of_numbers:\n",
    "        result = \"True\"\n",
    "    if N not in list_of_numbers:\n",
    "        result = \"False\"\n",
    "    return result\n",
    "N = 2\n",
    "results = check_the_number (N)\n",
    "print (results)"
   ]
  },
  {
   "cell_type": "code",
   "execution_count": 5,
   "id": "ee97820a",
   "metadata": {},
   "outputs": [
    {
     "name": "stdout",
     "output_type": "stream",
     "text": [
      "True\n"
     ]
    }
   ],
   "source": [
    "a = \"Eiffel\"\n",
    "b = \"Apple\"\n",
    "print(a > b)"
   ]
  },
  {
   "cell_type": "code",
   "execution_count": 6,
   "id": "cdd1784a",
   "metadata": {},
   "outputs": [
    {
     "name": "stdout",
     "output_type": "stream",
     "text": [
      "3\n"
     ]
    }
   ],
   "source": [
    "n = 0\n",
    "for i in range(5):\n",
    "    n += i\n",
    "    if n > 0 and n%3 == 0:\n",
    "        break\n",
    "print(n)"
   ]
  },
  {
   "cell_type": "code",
   "execution_count": 9,
   "id": "142c8ee4",
   "metadata": {},
   "outputs": [
    {
     "name": "stdout",
     "output_type": "stream",
     "text": [
      "2\n"
     ]
    }
   ],
   "source": [
    "my_string = \"My name is Tom\"\n",
    "re = my_string.count('m')\n",
    "print(re)"
   ]
  },
  {
   "cell_type": "code",
   "execution_count": 10,
   "id": "89ab29dc",
   "metadata": {},
   "outputs": [
    {
     "name": "stdout",
     "output_type": "stream",
     "text": [
      "1  0 \n",
      "0 1  \n"
     ]
    }
   ],
   "source": [
    "def my_function (x):\n",
    "    for i in range (x):\n",
    "        for j in range (x):\n",
    "            if i== j:\n",
    "                print (\"1 \", end=\" \")\n",
    "            else:\n",
    "                print (\"0\", end=\" \")\n",
    "        print ()\n",
    "my_function (2)"
   ]
  },
  {
   "cell_type": "code",
   "execution_count": 11,
   "id": "11e89293",
   "metadata": {},
   "outputs": [
    {
     "name": "stdout",
     "output_type": "stream",
     "text": [
      "24\n"
     ]
    }
   ],
   "source": [
    "def myfunction (y):\n",
    "    var = 1\n",
    "    while (y > 1):\n",
    "        var = var * y\n",
    "        y = y - 1\n",
    "    return var\n",
    "print (myfunction (4))"
   ]
  },
  {
   "cell_type": "code",
   "execution_count": 12,
   "id": "3a349792",
   "metadata": {},
   "outputs": [
    {
     "name": "stdout",
     "output_type": "stream",
     "text": [
      "tocirpa\n"
     ]
    }
   ],
   "source": [
    "def myfunction (x):\n",
    "    res = \"\"\n",
    "    for i in x:\n",
    "        res = i + res\n",
    "    return res\n",
    "x = \"apricot\"\n",
    "print (myfunction (x))"
   ]
  },
  {
   "cell_type": "code",
   "execution_count": null,
   "id": "c3dc7dc6",
   "metadata": {},
   "outputs": [],
   "source": []
  }
 ],
 "metadata": {
  "kernelspec": {
   "display_name": "Python 3",
   "language": "python",
   "name": "python3"
  },
  "language_info": {
   "codemirror_mode": {
    "name": "ipython",
    "version": 3
   },
   "file_extension": ".py",
   "mimetype": "text/x-python",
   "name": "python",
   "nbconvert_exporter": "python",
   "pygments_lexer": "ipython3",
   "version": "3.9.6"
  }
 },
 "nbformat": 4,
 "nbformat_minor": 5
}
